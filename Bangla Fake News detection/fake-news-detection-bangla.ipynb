{
 "cells": [
  {
   "cell_type": "code",
   "execution_count": 127,
   "metadata": {
    "_cell_guid": "b1076dfc-b9ad-4769-8c92-a6c4dae69d19",
    "_uuid": "8f2839f25d086af736a60e9eeb907d3b93b6e0e5"
   },
   "outputs": [
    {
     "name": "stdout",
     "output_type": "stream",
     "text": [
      "/kaggle/input/banfakenews/LabeledAuthentic-7K.csv\n",
      "/kaggle/input/banfakenews/Authentic-48K.csv\n",
      "/kaggle/input/banfakenews/Fake-1K.csv\n",
      "/kaggle/input/banfakenews/LabeledFake-1K.csv\n"
     ]
    }
   ],
   "source": [
    "# This Python 3 environment comes with many helpful analytics libraries installed\n",
    "# It is defined by the kaggle/python Docker image: https://github.com/kaggle/docker-python\n",
    "# For example, here's several helpful packages to load\n",
    "\n",
    "import numpy as np # linear algebra\n",
    "import pandas as pd # data processing, CSV file I/O (e.g. pd.read_csv)\n",
    "\n",
    "# Input data files are available in the read-only \"../input/\" directory\n",
    "# For example, running this (by clicking run or pressing Shift+Enter) will list all files under the input directory\n",
    "\n",
    "import os\n",
    "for dirname, _, filenames in os.walk('/kaggle/input'):\n",
    "    for filename in filenames:\n",
    "        print(os.path.join(dirname, filename))\n",
    "\n",
    "# You can write up to 20GB to the current directory (/kaggle/working/) that gets preserved as output when you create a version using \"Save & Run All\" \n",
    "# You can also write temporary files to /kaggle/temp/, but they won't be saved outside of the current session"
   ]
  },
  {
   "cell_type": "code",
   "execution_count": 128,
   "metadata": {},
   "outputs": [],
   "source": [
    "import itertools\n",
    "import pandas as pd\n",
    "import numpy as np\n",
    "import seaborn as sns\n",
    "import matplotlib.pyplot as plt\n",
    "from sklearn.ensemble import RandomForestClassifier\n",
    "from sklearn.model_selection import train_test_split\n",
    "from sklearn.feature_extraction.text import TfidfVectorizer\n",
    "from sklearn.metrics import accuracy_score\n",
    "from sklearn.metrics import confusion_matrix\n",
    "# from nltk.tokenize import word_tokenize"
   ]
  },
  {
   "cell_type": "code",
   "execution_count": 129,
   "metadata": {},
   "outputs": [
    {
     "name": "stdout",
     "output_type": "stream",
     "text": [
      "Requirement already satisfied: stopwordsiso in /opt/conda/lib/python3.7/site-packages (0.6.1)\r\n"
     ]
    }
   ],
   "source": [
    "!pip install stopwordsiso"
   ]
  },
  {
   "cell_type": "code",
   "execution_count": 130,
   "metadata": {},
   "outputs": [],
   "source": [
    "import stopwordsiso as stopwords"
   ]
  },
  {
   "cell_type": "code",
   "execution_count": 131,
   "metadata": {},
   "outputs": [
    {
     "data": {
      "text/html": [
       "<div>\n",
       "<style scoped>\n",
       "    .dataframe tbody tr th:only-of-type {\n",
       "        vertical-align: middle;\n",
       "    }\n",
       "\n",
       "    .dataframe tbody tr th {\n",
       "        vertical-align: top;\n",
       "    }\n",
       "\n",
       "    .dataframe thead th {\n",
       "        text-align: right;\n",
       "    }\n",
       "</style>\n",
       "<table border=\"1\" class=\"dataframe\">\n",
       "  <thead>\n",
       "    <tr style=\"text-align: right;\">\n",
       "      <th></th>\n",
       "      <th>articleID</th>\n",
       "      <th>domain</th>\n",
       "      <th>date</th>\n",
       "      <th>category</th>\n",
       "      <th>source</th>\n",
       "      <th>relation</th>\n",
       "      <th>headline</th>\n",
       "      <th>content</th>\n",
       "      <th>label</th>\n",
       "    </tr>\n",
       "  </thead>\n",
       "  <tbody>\n",
       "    <tr>\n",
       "      <th>7197</th>\n",
       "      <td>8263</td>\n",
       "      <td>jagonews24.com</td>\n",
       "      <td>2018-09-23 11:12:27</td>\n",
       "      <td>National</td>\n",
       "      <td>দেবপুড় ফাঁড়ী ইনচার্জ ইন্সপেক্টর</td>\n",
       "      <td>Related</td>\n",
       "      <td>তালাকের ৫ বছর পর শ্বশুরবাড়িতে প্রবাসীর মরদেহ</td>\n",
       "      <td>কুমিল্লার বুড়িচং উপজেলার এবদারপুর গ্রামে সাবেক...</td>\n",
       "      <td>1.0</td>\n",
       "    </tr>\n",
       "    <tr>\n",
       "      <th>7198</th>\n",
       "      <td>8265</td>\n",
       "      <td>jagonews24.com</td>\n",
       "      <td>2018-09-24 13:36:25</td>\n",
       "      <td>National</td>\n",
       "      <td>বান্দরবানে রাজবিহারের অধ্যক্ষ</td>\n",
       "      <td>Related</td>\n",
       "      <td>বান্দরবানে পালিত হচ্ছে মধু পূর্ণিমা</td>\n",
       "      <td>নানা মাঙ্গলিক আয়োজনের মধ্যে দিয়ে বান্দরবানে পা...</td>\n",
       "      <td>1.0</td>\n",
       "    </tr>\n",
       "    <tr>\n",
       "      <th>7199</th>\n",
       "      <td>8266</td>\n",
       "      <td>jagonews24.com</td>\n",
       "      <td>2018-09-23 19:36:27</td>\n",
       "      <td>National</td>\n",
       "      <td>নারায়ণগঞ্জ জেলা পুলিশের অতিরিক্ত পুলিশ সুপার</td>\n",
       "      <td>Related</td>\n",
       "      <td>মাজেদাকে ধরিয়ে দিয়ে ১০ হাজার টাকা পুরস্কার নিল...</td>\n",
       "      <td>নারায়ণগঞ্জের সিদ্ধিরগঞ্জে শীর্ষ মাদক ব্যবসায়ী ...</td>\n",
       "      <td>1.0</td>\n",
       "    </tr>\n",
       "    <tr>\n",
       "      <th>7200</th>\n",
       "      <td>8267</td>\n",
       "      <td>independent24.com</td>\n",
       "      <td>2018-09-21 14:26:51</td>\n",
       "      <td>National</td>\n",
       "      <td>ডাক, টেলিযোগাযোগ ও তথ্যপ্রযুক্তিমন্ত্রী</td>\n",
       "      <td>Related</td>\n",
       "      <td>মন্ত্রিসভায় চূড়ান্ত অনুমোদনের অপেক্ষায় টেলিযোগ...</td>\n",
       "      <td>২০ বছরের পুরনো নীতিমালা দিয়েই চলছে দেশের টেলিয...</td>\n",
       "      <td>1.0</td>\n",
       "    </tr>\n",
       "    <tr>\n",
       "      <th>7201</th>\n",
       "      <td>8268</td>\n",
       "      <td>bangla.thereport24.com</td>\n",
       "      <td>2018-09-23 12:29:50</td>\n",
       "      <td>Entertainment</td>\n",
       "      <td>writter</td>\n",
       "      <td>Related</td>\n",
       "      <td>ফুল ঝরে পড়ে</td>\n",
       "      <td>মারুফ কামরুল মুখ ভরে বমি করছে চুটকি। আধ ভাঙা ভ...</td>\n",
       "      <td>1.0</td>\n",
       "    </tr>\n",
       "  </tbody>\n",
       "</table>\n",
       "</div>"
      ],
      "text/plain": [
       "      articleID                  domain                 date       category  \\\n",
       "7197       8263          jagonews24.com  2018-09-23 11:12:27       National   \n",
       "7198       8265          jagonews24.com  2018-09-24 13:36:25       National   \n",
       "7199       8266          jagonews24.com  2018-09-23 19:36:27       National   \n",
       "7200       8267       independent24.com  2018-09-21 14:26:51       National   \n",
       "7201       8268  bangla.thereport24.com  2018-09-23 12:29:50  Entertainment   \n",
       "\n",
       "                                            source relation  \\\n",
       "7197               দেবপুড় ফাঁড়ী ইনচার্জ ইন্সপেক্টর  Related   \n",
       "7198                 বান্দরবানে রাজবিহারের অধ্যক্ষ  Related   \n",
       "7199  নারায়ণগঞ্জ জেলা পুলিশের অতিরিক্ত পুলিশ সুপার  Related   \n",
       "7200       ডাক, টেলিযোগাযোগ ও তথ্যপ্রযুক্তিমন্ত্রী  Related   \n",
       "7201                                       writter  Related   \n",
       "\n",
       "                                               headline  \\\n",
       "7197       তালাকের ৫ বছর পর শ্বশুরবাড়িতে প্রবাসীর মরদেহ   \n",
       "7198                বান্দরবানে পালিত হচ্ছে মধু পূর্ণিমা   \n",
       "7199  মাজেদাকে ধরিয়ে দিয়ে ১০ হাজার টাকা পুরস্কার নিল...   \n",
       "7200  মন্ত্রিসভায় চূড়ান্ত অনুমোদনের অপেক্ষায় টেলিযোগ...   \n",
       "7201                                        ফুল ঝরে পড়ে   \n",
       "\n",
       "                                                content  label  \n",
       "7197  কুমিল্লার বুড়িচং উপজেলার এবদারপুর গ্রামে সাবেক...    1.0  \n",
       "7198  নানা মাঙ্গলিক আয়োজনের মধ্যে দিয়ে বান্দরবানে পা...    1.0  \n",
       "7199  নারায়ণগঞ্জের সিদ্ধিরগঞ্জে শীর্ষ মাদক ব্যবসায়ী ...    1.0  \n",
       "7200  ২০ বছরের পুরনো নীতিমালা দিয়েই চলছে দেশের টেলিয...    1.0  \n",
       "7201  মারুফ কামরুল মুখ ভরে বমি করছে চুটকি। আধ ভাঙা ভ...    1.0  "
      ]
     },
     "execution_count": 131,
     "metadata": {},
     "output_type": "execute_result"
    }
   ],
   "source": [
    "df1 = pd.read_csv('/kaggle/input/banfakenews/LabeledAuthentic-7K.csv', engine='python', encoding='utf-8')\n",
    "df1.tail()"
   ]
  },
  {
   "cell_type": "code",
   "execution_count": 132,
   "metadata": {},
   "outputs": [
    {
     "data": {
      "text/html": [
       "<div>\n",
       "<style scoped>\n",
       "    .dataframe tbody tr th:only-of-type {\n",
       "        vertical-align: middle;\n",
       "    }\n",
       "\n",
       "    .dataframe tbody tr th {\n",
       "        vertical-align: top;\n",
       "    }\n",
       "\n",
       "    .dataframe thead th {\n",
       "        text-align: right;\n",
       "    }\n",
       "</style>\n",
       "<table border=\"1\" class=\"dataframe\">\n",
       "  <thead>\n",
       "    <tr style=\"text-align: right;\">\n",
       "      <th></th>\n",
       "      <th>articleID</th>\n",
       "      <th>domain</th>\n",
       "      <th>date</th>\n",
       "      <th>category</th>\n",
       "      <th>source</th>\n",
       "      <th>relation</th>\n",
       "      <th>headline</th>\n",
       "      <th>content</th>\n",
       "      <th>label</th>\n",
       "      <th>F-type</th>\n",
       "    </tr>\n",
       "  </thead>\n",
       "  <tbody>\n",
       "    <tr>\n",
       "      <th>1294</th>\n",
       "      <td>1303</td>\n",
       "      <td>bengalbeats.com</td>\n",
       "      <td>2019-03-31T21:34:42+00:00</td>\n",
       "      <td>Miscellaneous</td>\n",
       "      <td>Reporter</td>\n",
       "      <td>Unrelated</td>\n",
       "      <td>রাজশাহীতে স্বামীর হাঁচির আওয়াজে ঘুমের মধ্যেই স...</td>\n",
       "      <td>রাজশাহীর সাহেব বাজার মোড়ে রাতে ঘুমের মধ্যে হাস...</td>\n",
       "      <td>0</td>\n",
       "      <td>Satire</td>\n",
       "    </tr>\n",
       "    <tr>\n",
       "      <th>1295</th>\n",
       "      <td>1304</td>\n",
       "      <td>bengaliviralnews.com</td>\n",
       "      <td>2018-01-16T15:36:12+00:00</td>\n",
       "      <td>Miscellaneous</td>\n",
       "      <td>Reporter</td>\n",
       "      <td>Unrelated</td>\n",
       "      <td>IAS ইন্টারভিউ এ মেয়েটিকে জিজ্ঞসা করা হল মেয়েদে...</td>\n",
       "      <td>IAS পরীক্ষায় এমন এমন অবাক করে দেওয়া প্রশ্ন এসে...</td>\n",
       "      <td>0</td>\n",
       "      <td>Clickbaits</td>\n",
       "    </tr>\n",
       "    <tr>\n",
       "      <th>1296</th>\n",
       "      <td>1305</td>\n",
       "      <td>channeldhaka.news</td>\n",
       "      <td>2018-12-03T18:09:08+00:00</td>\n",
       "      <td>Crime</td>\n",
       "      <td>ফেনী ফায়ার স্টেশনের ইনচার্জ</td>\n",
       "      <td>Unrelated</td>\n",
       "      <td>শাওমি মোবাইল বিস্ফোরণে কলেজছাত্রের মৃত্যু!</td>\n",
       "      <td>শাওমি মোবাইল ফোন বিস্ফোরণ হয়ে স্বপ্নীল মজুমদা...</td>\n",
       "      <td>0</td>\n",
       "      <td>Satire</td>\n",
       "    </tr>\n",
       "    <tr>\n",
       "      <th>1297</th>\n",
       "      <td>1306</td>\n",
       "      <td>earki.com</td>\n",
       "      <td>১৭:৩৬, জানুয়ারি ০৭, ২০১৯</td>\n",
       "      <td>Miscellaneous</td>\n",
       "      <td>Reporter</td>\n",
       "      <td>Related</td>\n",
       "      <td>ফেসবুকে যেভাবে নতুন মন্ত্রীদের অভিনন্দন বার্তা...</td>\n",
       "      <td>আপনাকে নতুন মন্ত্রিসভার সদস্যদের অভিনন্দন জানা...</td>\n",
       "      <td>0</td>\n",
       "      <td>Satire</td>\n",
       "    </tr>\n",
       "    <tr>\n",
       "      <th>1298</th>\n",
       "      <td>1307</td>\n",
       "      <td>channeldhaka.news</td>\n",
       "      <td>2019-03-09T23:00:05+00:00</td>\n",
       "      <td>International</td>\n",
       "      <td>মুম্বাই বিমানবন্দর সূত্র</td>\n",
       "      <td>Unrelated</td>\n",
       "      <td>মাঝ আকাশে পর্ন দেখার অভিযোগে পাইলট আটক!</td>\n",
       "      <td>বিমান যখন আকাশে তখন আর কোনও দিকে খেয়াল না রেখ...</td>\n",
       "      <td>0</td>\n",
       "      <td>Satire</td>\n",
       "    </tr>\n",
       "  </tbody>\n",
       "</table>\n",
       "</div>"
      ],
      "text/plain": [
       "      articleID                domain                        date  \\\n",
       "1294       1303       bengalbeats.com   2019-03-31T21:34:42+00:00   \n",
       "1295       1304  bengaliviralnews.com   2018-01-16T15:36:12+00:00   \n",
       "1296       1305     channeldhaka.news   2018-12-03T18:09:08+00:00   \n",
       "1297       1306             earki.com  ১৭:৩৬, জানুয়ারি ০৭, ২০১৯    \n",
       "1298       1307     channeldhaka.news   2019-03-09T23:00:05+00:00   \n",
       "\n",
       "           category                         source   relation  \\\n",
       "1294  Miscellaneous                       Reporter  Unrelated   \n",
       "1295  Miscellaneous                       Reporter  Unrelated   \n",
       "1296          Crime  ফেনী ফায়ার স্টেশনের ইনচার্জ   Unrelated   \n",
       "1297  Miscellaneous                       Reporter    Related   \n",
       "1298  International      মুম্বাই বিমানবন্দর সূত্র   Unrelated   \n",
       "\n",
       "                                               headline  \\\n",
       "1294  রাজশাহীতে স্বামীর হাঁচির আওয়াজে ঘুমের মধ্যেই স...   \n",
       "1295  IAS ইন্টারভিউ এ মেয়েটিকে জিজ্ঞসা করা হল মেয়েদে...   \n",
       "1296         শাওমি মোবাইল বিস্ফোরণে কলেজছাত্রের মৃত্যু!   \n",
       "1297  ফেসবুকে যেভাবে নতুন মন্ত্রীদের অভিনন্দন বার্তা...   \n",
       "1298            মাঝ আকাশে পর্ন দেখার অভিযোগে পাইলট আটক!   \n",
       "\n",
       "                                                content  label      F-type  \n",
       "1294  রাজশাহীর সাহেব বাজার মোড়ে রাতে ঘুমের মধ্যে হাস...      0      Satire  \n",
       "1295  IAS পরীক্ষায় এমন এমন অবাক করে দেওয়া প্রশ্ন এসে...      0  Clickbaits  \n",
       "1296  শাওমি মোবাইল ফোন বিস্ফোরণ হয়ে স্বপ্নীল মজুমদা...      0      Satire  \n",
       "1297  আপনাকে নতুন মন্ত্রিসভার সদস্যদের অভিনন্দন জানা...      0      Satire  \n",
       "1298  বিমান যখন আকাশে তখন আর কোনও দিকে খেয়াল না রেখ...      0      Satire  "
      ]
     },
     "execution_count": 132,
     "metadata": {},
     "output_type": "execute_result"
    }
   ],
   "source": [
    "df2= pd.read_csv('/kaggle/input/banfakenews/LabeledFake-1K.csv', engine='python', encoding='utf-8')\n",
    "df2.tail()"
   ]
  },
  {
   "cell_type": "code",
   "execution_count": 133,
   "metadata": {},
   "outputs": [],
   "source": [
    "#merging df1 & df2\n",
    "df1.drop(columns=['articleID'], inplace = True)\n",
    "df2.drop(columns=['articleID','F-type'], inplace = True)"
   ]
  },
  {
   "cell_type": "code",
   "execution_count": 134,
   "metadata": {},
   "outputs": [],
   "source": [
    "dataset = pd.concat([df1,df2], ignore_index=True)\n",
    "data = dataset.copy()"
   ]
  },
  {
   "cell_type": "code",
   "execution_count": 135,
   "metadata": {},
   "outputs": [
    {
     "data": {
      "text/html": [
       "<div>\n",
       "<style scoped>\n",
       "    .dataframe tbody tr th:only-of-type {\n",
       "        vertical-align: middle;\n",
       "    }\n",
       "\n",
       "    .dataframe tbody tr th {\n",
       "        vertical-align: top;\n",
       "    }\n",
       "\n",
       "    .dataframe thead th {\n",
       "        text-align: right;\n",
       "    }\n",
       "</style>\n",
       "<table border=\"1\" class=\"dataframe\">\n",
       "  <thead>\n",
       "    <tr style=\"text-align: right;\">\n",
       "      <th></th>\n",
       "      <th>domain</th>\n",
       "      <th>date</th>\n",
       "      <th>category</th>\n",
       "      <th>source</th>\n",
       "      <th>relation</th>\n",
       "      <th>headline</th>\n",
       "      <th>content</th>\n",
       "      <th>label</th>\n",
       "    </tr>\n",
       "  </thead>\n",
       "  <tbody>\n",
       "    <tr>\n",
       "      <th>0</th>\n",
       "      <td>bd-pratidin.com</td>\n",
       "      <td>2018-09-20 08:16:43</td>\n",
       "      <td>Sports</td>\n",
       "      <td>আফগান ক্রিকেট বোর্ড (এসিবি) প্রধান</td>\n",
       "      <td>Related</td>\n",
       "      <td>হঠাৎ আফগান ক্রিকেট বোর্ড প্রধানের পদত্যাগ</td>\n",
       "      <td>ক্রিকেট বিশ্বের নতুন চমকের নাম আফগানিস্তান। কয়...</td>\n",
       "      <td>1.0</td>\n",
       "    </tr>\n",
       "    <tr>\n",
       "      <th>1</th>\n",
       "      <td>jugantor.com</td>\n",
       "      <td>2018-09-20 20:20:20</td>\n",
       "      <td>Sports</td>\n",
       "      <td>Reporter</td>\n",
       "      <td>Related</td>\n",
       "      <td>টস হেরে বোলিংয়ে বাংলাদেশ</td>\n",
       "      <td>এশিয়া কাপের ষষ্ঠ ম্যাচে বাংলাদেশ দলের বিপক্ষে ...</td>\n",
       "      <td>1.0</td>\n",
       "    </tr>\n",
       "    <tr>\n",
       "      <th>2</th>\n",
       "      <td>bd24live.com</td>\n",
       "      <td>2018-09-20 16:39:40</td>\n",
       "      <td>National</td>\n",
       "      <td>Reporter</td>\n",
       "      <td>Related</td>\n",
       "      <td>রাজধানীতে বিশেষ অভিযানে আটক ৪৩</td>\n",
       "      <td>রাজধানীতে মাদক বিরোধী বিশেষ অভিযান পরিচালনা কর...</td>\n",
       "      <td>1.0</td>\n",
       "    </tr>\n",
       "    <tr>\n",
       "      <th>3</th>\n",
       "      <td>bd24live.com</td>\n",
       "      <td>2018-09-19 18:27:56</td>\n",
       "      <td>National</td>\n",
       "      <td>জননিরাপত্তা বিভাগের সচিব</td>\n",
       "      <td>Related</td>\n",
       "      <td>উস্কানি রোধে নজরদারি থাকবে সামাজিক যোগাযোগ মাধ...</td>\n",
       "      <td>সনাতন ধর্মাবলম্বীদের সবচেয়ে বড় ধর্মীয় উৎসব দুর...</td>\n",
       "      <td>1.0</td>\n",
       "    </tr>\n",
       "    <tr>\n",
       "      <th>4</th>\n",
       "      <td>somoynews.tv</td>\n",
       "      <td>2018-09-20 10:15:28</td>\n",
       "      <td>Finance</td>\n",
       "      <td>পেট্রোল পাম্প মালিক সমিতি সভাপতি</td>\n",
       "      <td>Related</td>\n",
       "      <td>'যেখানে তেল আসত ৭ দিনে, এখন তা আসবে অতি দ্রুত'</td>\n",
       "      <td>ভারত থেকে পাইপ লাইনের মাধ্যমে সরাসরি দেশে জ্বা...</td>\n",
       "      <td>1.0</td>\n",
       "    </tr>\n",
       "  </tbody>\n",
       "</table>\n",
       "</div>"
      ],
      "text/plain": [
       "            domain                 date  category  \\\n",
       "0  bd-pratidin.com  2018-09-20 08:16:43    Sports   \n",
       "1     jugantor.com  2018-09-20 20:20:20    Sports   \n",
       "2     bd24live.com  2018-09-20 16:39:40  National   \n",
       "3     bd24live.com  2018-09-19 18:27:56  National   \n",
       "4     somoynews.tv  2018-09-20 10:15:28   Finance   \n",
       "\n",
       "                               source relation  \\\n",
       "0  আফগান ক্রিকেট বোর্ড (এসিবি) প্রধান  Related   \n",
       "1                            Reporter  Related   \n",
       "2                            Reporter  Related   \n",
       "3            জননিরাপত্তা বিভাগের সচিব  Related   \n",
       "4    পেট্রোল পাম্প মালিক সমিতি সভাপতি  Related   \n",
       "\n",
       "                                            headline  \\\n",
       "0          হঠাৎ আফগান ক্রিকেট বোর্ড প্রধানের পদত্যাগ   \n",
       "1                           টস হেরে বোলিংয়ে বাংলাদেশ   \n",
       "2                     রাজধানীতে বিশেষ অভিযানে আটক ৪৩   \n",
       "3  উস্কানি রোধে নজরদারি থাকবে সামাজিক যোগাযোগ মাধ...   \n",
       "4     'যেখানে তেল আসত ৭ দিনে, এখন তা আসবে অতি দ্রুত'   \n",
       "\n",
       "                                             content  label  \n",
       "0  ক্রিকেট বিশ্বের নতুন চমকের নাম আফগানিস্তান। কয়...    1.0  \n",
       "1  এশিয়া কাপের ষষ্ঠ ম্যাচে বাংলাদেশ দলের বিপক্ষে ...    1.0  \n",
       "2  রাজধানীতে মাদক বিরোধী বিশেষ অভিযান পরিচালনা কর...    1.0  \n",
       "3  সনাতন ধর্মাবলম্বীদের সবচেয়ে বড় ধর্মীয় উৎসব দুর...    1.0  \n",
       "4  ভারত থেকে পাইপ লাইনের মাধ্যমে সরাসরি দেশে জ্বা...    1.0  "
      ]
     },
     "execution_count": 135,
     "metadata": {},
     "output_type": "execute_result"
    }
   ],
   "source": [
    "data.head()"
   ]
  },
  {
   "cell_type": "code",
   "execution_count": 136,
   "metadata": {},
   "outputs": [],
   "source": [
    "stop_words = stopwords.stopwords(\"bn\")\n",
    "# print(stop_words)"
   ]
  },
  {
   "cell_type": "code",
   "execution_count": 137,
   "metadata": {},
   "outputs": [],
   "source": [
    "data.drop(columns=['domain','date','source'], inplace = True)"
   ]
  },
  {
   "cell_type": "code",
   "execution_count": 138,
   "metadata": {},
   "outputs": [
    {
     "data": {
      "text/html": [
       "<div>\n",
       "<style scoped>\n",
       "    .dataframe tbody tr th:only-of-type {\n",
       "        vertical-align: middle;\n",
       "    }\n",
       "\n",
       "    .dataframe tbody tr th {\n",
       "        vertical-align: top;\n",
       "    }\n",
       "\n",
       "    .dataframe thead th {\n",
       "        text-align: right;\n",
       "    }\n",
       "</style>\n",
       "<table border=\"1\" class=\"dataframe\">\n",
       "  <thead>\n",
       "    <tr style=\"text-align: right;\">\n",
       "      <th></th>\n",
       "      <th>category</th>\n",
       "      <th>relation</th>\n",
       "      <th>headline</th>\n",
       "      <th>content</th>\n",
       "      <th>label</th>\n",
       "    </tr>\n",
       "  </thead>\n",
       "  <tbody>\n",
       "    <tr>\n",
       "      <th>0</th>\n",
       "      <td>Sports</td>\n",
       "      <td>Related</td>\n",
       "      <td>হঠাৎ আফগান ক্রিকেট বোর্ড প্রধানের পদত্যাগ</td>\n",
       "      <td>ক্রিকেট বিশ্বের নতুন চমকের নাম আফগানিস্তান। কয়...</td>\n",
       "      <td>1.0</td>\n",
       "    </tr>\n",
       "    <tr>\n",
       "      <th>1</th>\n",
       "      <td>Sports</td>\n",
       "      <td>Related</td>\n",
       "      <td>টস হেরে বোলিংয়ে বাংলাদেশ</td>\n",
       "      <td>এশিয়া কাপের ষষ্ঠ ম্যাচে বাংলাদেশ দলের বিপক্ষে ...</td>\n",
       "      <td>1.0</td>\n",
       "    </tr>\n",
       "    <tr>\n",
       "      <th>2</th>\n",
       "      <td>National</td>\n",
       "      <td>Related</td>\n",
       "      <td>রাজধানীতে বিশেষ অভিযানে আটক ৪৩</td>\n",
       "      <td>রাজধানীতে মাদক বিরোধী বিশেষ অভিযান পরিচালনা কর...</td>\n",
       "      <td>1.0</td>\n",
       "    </tr>\n",
       "    <tr>\n",
       "      <th>3</th>\n",
       "      <td>National</td>\n",
       "      <td>Related</td>\n",
       "      <td>উস্কানি রোধে নজরদারি থাকবে সামাজিক যোগাযোগ মাধ...</td>\n",
       "      <td>সনাতন ধর্মাবলম্বীদের সবচেয়ে বড় ধর্মীয় উৎসব দুর...</td>\n",
       "      <td>1.0</td>\n",
       "    </tr>\n",
       "    <tr>\n",
       "      <th>4</th>\n",
       "      <td>Finance</td>\n",
       "      <td>Related</td>\n",
       "      <td>'যেখানে তেল আসত ৭ দিনে, এখন তা আসবে অতি দ্রুত'</td>\n",
       "      <td>ভারত থেকে পাইপ লাইনের মাধ্যমে সরাসরি দেশে জ্বা...</td>\n",
       "      <td>1.0</td>\n",
       "    </tr>\n",
       "  </tbody>\n",
       "</table>\n",
       "</div>"
      ],
      "text/plain": [
       "   category relation                                           headline  \\\n",
       "0    Sports  Related          হঠাৎ আফগান ক্রিকেট বোর্ড প্রধানের পদত্যাগ   \n",
       "1    Sports  Related                           টস হেরে বোলিংয়ে বাংলাদেশ   \n",
       "2  National  Related                     রাজধানীতে বিশেষ অভিযানে আটক ৪৩   \n",
       "3  National  Related  উস্কানি রোধে নজরদারি থাকবে সামাজিক যোগাযোগ মাধ...   \n",
       "4   Finance  Related     'যেখানে তেল আসত ৭ দিনে, এখন তা আসবে অতি দ্রুত'   \n",
       "\n",
       "                                             content  label  \n",
       "0  ক্রিকেট বিশ্বের নতুন চমকের নাম আফগানিস্তান। কয়...    1.0  \n",
       "1  এশিয়া কাপের ষষ্ঠ ম্যাচে বাংলাদেশ দলের বিপক্ষে ...    1.0  \n",
       "2  রাজধানীতে মাদক বিরোধী বিশেষ অভিযান পরিচালনা কর...    1.0  \n",
       "3  সনাতন ধর্মাবলম্বীদের সবচেয়ে বড় ধর্মীয় উৎসব দুর...    1.0  \n",
       "4  ভারত থেকে পাইপ লাইনের মাধ্যমে সরাসরি দেশে জ্বা...    1.0  "
      ]
     },
     "execution_count": 138,
     "metadata": {},
     "output_type": "execute_result"
    }
   ],
   "source": [
    "data.head()"
   ]
  },
  {
   "cell_type": "code",
   "execution_count": 139,
   "metadata": {},
   "outputs": [],
   "source": [
    "data['relation'] = data['relation'].str.lower()\n",
    "data['category'] = data['category'].str.lower()"
   ]
  },
  {
   "cell_type": "code",
   "execution_count": 140,
   "metadata": {},
   "outputs": [
    {
     "data": {
      "text/plain": [
       "array(['related', 'unrelated'], dtype=object)"
      ]
     },
     "execution_count": 140,
     "metadata": {},
     "output_type": "execute_result"
    }
   ],
   "source": [
    "data['relation'].unique()"
   ]
  },
  {
   "cell_type": "code",
   "execution_count": 141,
   "metadata": {},
   "outputs": [],
   "source": [
    "#Preprocess function\n",
    "# Apply a first round of text cleaning techniques\n",
    "import re\n",
    "import string\n",
    "\n",
    "def clean_text_round1(text):\n",
    "    '''Make text lowercase, remove text in square brackets, remove punctuation and remove words containing numbers.'''\n",
    "    text = text.lower()\n",
    "    text = re.sub('\\[.*?\\]', '', text)\n",
    "    text = re.sub('[%s]' % re.escape(string.punctuation), '', text)\n",
    "    text = re.sub('\\w*\\d\\w*', '', text)\n",
    "    return text\n",
    "\n",
    "round1 = lambda x: clean_text_round1(x)"
   ]
  },
  {
   "cell_type": "code",
   "execution_count": 142,
   "metadata": {},
   "outputs": [],
   "source": [
    "# Apply a second round of cleaning\n",
    "def clean_text_round2(text):\n",
    "    '''Get rid of some additional punctuation and non-sensical text that was missed the first time around.'''\n",
    "    text = re.sub('[‘’“”…]', '', text)\n",
    "    text = re.sub('\\n', '', text)\n",
    "    return text\n",
    "\n",
    "round2 = lambda x: clean_text_round2(x)"
   ]
  },
  {
   "cell_type": "code",
   "execution_count": 143,
   "metadata": {},
   "outputs": [],
   "source": [
    "data['headline'] = data['headline'].apply(round1)\n",
    "data['headline'] = data['headline'].apply(round2)"
   ]
  },
  {
   "cell_type": "code",
   "execution_count": 144,
   "metadata": {},
   "outputs": [],
   "source": [
    "data['content'] = data['content'].apply(round1)\n",
    "data['content'] = data['content'].apply(round2)"
   ]
  },
  {
   "cell_type": "code",
   "execution_count": 145,
   "metadata": {},
   "outputs": [
    {
     "name": "stderr",
     "output_type": "stream",
     "text": [
      "/opt/conda/lib/python3.7/site-packages/ipykernel_launcher.py:5: FutureWarning: The default value of regex will change from True to False in a future version.\n",
      "  \"\"\"\n",
      "/opt/conda/lib/python3.7/site-packages/ipykernel_launcher.py:6: FutureWarning: The default value of regex will change from True to False in a future version.\n",
      "  \n",
      "/opt/conda/lib/python3.7/site-packages/ipykernel_launcher.py:7: FutureWarning: The default value of regex will change from True to False in a future version.\n",
      "  import sys\n"
     ]
    }
   ],
   "source": [
    "# Pepocessing function for headline\n",
    "\n",
    "def cleaning_headline(data):\n",
    "    \n",
    "    data['headline'] = data['headline'].str.replace('[A-Za-z]','')\n",
    "    data['headline'] = data['headline'].str.replace('[।,.॥]','')\n",
    "    data['headline'] = data['headline'].str.replace('[\\xa0]','')\n",
    "    data['headline'] = data['headline'].str.split(' ')\n",
    "    data['headline'] = data['headline'].apply(lambda x: [item for item in x if item not in stop_words])\n",
    "    data['headline'] = data['headline'].apply(lambda x: ' '.join(word for word in x))\n",
    "  \n",
    "    return data\n",
    "\n",
    "data = cleaning_headline(data)"
   ]
  },
  {
   "cell_type": "code",
   "execution_count": 146,
   "metadata": {},
   "outputs": [
    {
     "name": "stderr",
     "output_type": "stream",
     "text": [
      "/opt/conda/lib/python3.7/site-packages/ipykernel_launcher.py:5: FutureWarning: The default value of regex will change from True to False in a future version.\n",
      "  \"\"\"\n",
      "/opt/conda/lib/python3.7/site-packages/ipykernel_launcher.py:6: FutureWarning: The default value of regex will change from True to False in a future version.\n",
      "  \n",
      "/opt/conda/lib/python3.7/site-packages/ipykernel_launcher.py:7: FutureWarning: The default value of regex will change from True to False in a future version.\n",
      "  import sys\n"
     ]
    }
   ],
   "source": [
    "# Pepocessing function for  content\n",
    "\n",
    "def cleaning_content(data):\n",
    "    \n",
    "    data['content'] = data['content'].str.replace('[A-Za-z]','')\n",
    "    data['content'] = data['content'].str.replace('[।,.॥]','')\n",
    "    data['content'] = data['content'].str.replace('[\\xa0]','')\n",
    "    data['content'] = data['content'].str.split(' ')\n",
    "    data['content'] = data['content'].apply(lambda x: [item for item in x if item not in stop_words])\n",
    "    data['content'] = data['content'].apply(lambda x: ' '.join(word for word in x))\n",
    "  \n",
    "    return data\n",
    "\n",
    "data = cleaning_content(data)"
   ]
  },
  {
   "cell_type": "code",
   "execution_count": 147,
   "metadata": {},
   "outputs": [],
   "source": [
    "\n",
    "import re\n",
    "\n",
    "def demoji_cont(text):\n",
    "    \n",
    "    emoji_pattern = re.compile(\"[\"\n",
    "        u\"\\U0001F600-\\U0001F64F\"  # emoticons\n",
    "        u\"\\U0001F300-\\U0001F5FF\"  # symbols & pictographs\n",
    "        u\"\\U0001F680-\\U0001F6FF\"  # transport & map symbols\n",
    "        u\"\\U0001F1E0-\\U0001F1FF\"  # flags (iOS)\n",
    "        u\"\\U00002702-\\U000027B0\"\n",
    "        u\"\\U000024C2-\\U0001F251\"\n",
    "        u\"\\U00010000-\\U0010ffff\"\n",
    "                              \"]+\", flags=re.UNICODE)\n",
    "    \n",
    "    return(emoji_pattern.sub(r'', text))\n",
    " \n",
    " \n",
    "\n",
    "data['content'] = data['content'].apply(lambda x:demoji_cont(x))"
   ]
  },
  {
   "cell_type": "code",
   "execution_count": 148,
   "metadata": {},
   "outputs": [],
   "source": [
    "import re\n",
    "\n",
    "def demoji_head(text):\n",
    "    \n",
    "    emoji_pattern = re.compile(\"[\"\n",
    "        u\"\\U0001F600-\\U0001F64F\"  # emoticons\n",
    "        u\"\\U0001F300-\\U0001F5FF\"  # symbols & pictographs\n",
    "        u\"\\U0001F680-\\U0001F6FF\"  # transport & map symbols\n",
    "        u\"\\U0001F1E0-\\U0001F1FF\"  # flags (iOS)\n",
    "        u\"\\U00002702-\\U000027B0\"\n",
    "        u\"\\U000024C2-\\U0001F251\"\n",
    "        u\"\\U00010000-\\U0010ffff\"\n",
    "                              \"]+\", flags=re.UNICODE)\n",
    "    \n",
    "    return(emoji_pattern.sub(r'', text))\n",
    " \n",
    " \n",
    "\n",
    "data['headline'] = data['headline'].apply(lambda x:demoji_head(x))"
   ]
  },
  {
   "cell_type": "code",
   "execution_count": 149,
   "metadata": {},
   "outputs": [
    {
     "data": {
      "text/html": [
       "<div>\n",
       "<style scoped>\n",
       "    .dataframe tbody tr th:only-of-type {\n",
       "        vertical-align: middle;\n",
       "    }\n",
       "\n",
       "    .dataframe tbody tr th {\n",
       "        vertical-align: top;\n",
       "    }\n",
       "\n",
       "    .dataframe thead th {\n",
       "        text-align: right;\n",
       "    }\n",
       "</style>\n",
       "<table border=\"1\" class=\"dataframe\">\n",
       "  <thead>\n",
       "    <tr style=\"text-align: right;\">\n",
       "      <th></th>\n",
       "      <th>category</th>\n",
       "      <th>relation</th>\n",
       "      <th>headline</th>\n",
       "      <th>content</th>\n",
       "      <th>label</th>\n",
       "    </tr>\n",
       "  </thead>\n",
       "  <tbody>\n",
       "    <tr>\n",
       "      <th>0</th>\n",
       "      <td>sports</td>\n",
       "      <td>related</td>\n",
       "      <td>হঠাৎ আফগান ক্রিকেট বোর্ড প্রধানের পদত্যাগ</td>\n",
       "      <td>ক্রিকেট বিশ্বের চমকের নাম আফগানিস্তান বছরে পার...</td>\n",
       "      <td>1.0</td>\n",
       "    </tr>\n",
       "    <tr>\n",
       "      <th>1</th>\n",
       "      <td>sports</td>\n",
       "      <td>related</td>\n",
       "      <td>টস হেরে বোলিংয়ে বাংলাদেশ</td>\n",
       "      <td>এশিয়া কাপের ষষ্ঠ ম্যাচে বাংলাদেশ দলের বিপক্ষে ...</td>\n",
       "      <td>1.0</td>\n",
       "    </tr>\n",
       "    <tr>\n",
       "      <th>2</th>\n",
       "      <td>national</td>\n",
       "      <td>related</td>\n",
       "      <td>রাজধানীতে অভিযানে আটক</td>\n",
       "      <td>রাজধানীতে মাদক বিরোধী অভিযান পরিচালনা ঢাকা মেট...</td>\n",
       "      <td>1.0</td>\n",
       "    </tr>\n",
       "    <tr>\n",
       "      <th>3</th>\n",
       "      <td>national</td>\n",
       "      <td>related</td>\n",
       "      <td>উস্কানি রোধে নজরদারি সামাজিক যোগাযোগ</td>\n",
       "      <td>সনাতন ধর্মাবলম্বীদের সবচেয়ে বড় ধর্মীয় উৎসব দুর...</td>\n",
       "      <td>1.0</td>\n",
       "    </tr>\n",
       "    <tr>\n",
       "      <th>4</th>\n",
       "      <td>finance</td>\n",
       "      <td>related</td>\n",
       "      <td>তেল আসত  দিনে আসবে অতি দ্রুত</td>\n",
       "      <td>ভারত পাইপ লাইনের সরাসরি দেশে জ্বালানি তেল সরবর...</td>\n",
       "      <td>1.0</td>\n",
       "    </tr>\n",
       "  </tbody>\n",
       "</table>\n",
       "</div>"
      ],
      "text/plain": [
       "   category relation                                   headline  \\\n",
       "0    sports  related  হঠাৎ আফগান ক্রিকেট বোর্ড প্রধানের পদত্যাগ   \n",
       "1    sports  related                   টস হেরে বোলিংয়ে বাংলাদেশ   \n",
       "2  national  related                     রাজধানীতে অভিযানে আটক    \n",
       "3  national  related       উস্কানি রোধে নজরদারি সামাজিক যোগাযোগ   \n",
       "4   finance  related               তেল আসত  দিনে আসবে অতি দ্রুত   \n",
       "\n",
       "                                             content  label  \n",
       "0  ক্রিকেট বিশ্বের চমকের নাম আফগানিস্তান বছরে পার...    1.0  \n",
       "1  এশিয়া কাপের ষষ্ঠ ম্যাচে বাংলাদেশ দলের বিপক্ষে ...    1.0  \n",
       "2  রাজধানীতে মাদক বিরোধী অভিযান পরিচালনা ঢাকা মেট...    1.0  \n",
       "3  সনাতন ধর্মাবলম্বীদের সবচেয়ে বড় ধর্মীয় উৎসব দুর...    1.0  \n",
       "4  ভারত পাইপ লাইনের সরাসরি দেশে জ্বালানি তেল সরবর...    1.0  "
      ]
     },
     "execution_count": 149,
     "metadata": {},
     "output_type": "execute_result"
    }
   ],
   "source": [
    "data.head()"
   ]
  },
  {
   "cell_type": "code",
   "execution_count": null,
   "metadata": {},
   "outputs": [],
   "source": []
  },
  {
   "cell_type": "code",
   "execution_count": 150,
   "metadata": {},
   "outputs": [
    {
     "data": {
      "text/plain": [
       "\"নিজেকে কীভাবে শিরোনামে রাখা যায় তা বেশ ভালোই জানেন পুনম পান্ডে। বুধবার ছিল ভারত-পাকিস্তানের ক্রিকেট ম্যাচ। আর সেই ম্যাচের আগেই সোশ্যাল সাইটে নিজের খোলামেলা ছবি শেয়ার করলেন পুনম। যেখানে তাঁর শরীরের কিছু অংশে পর্যাপ্ত সুতোর দেখাও মেলেনি। শরীরের নিন্মাংশ প্রদর্শন করে সোশ্যাল সাইটে উত্তাপ ছড়াতে শুরু করেন পুনম পান্ডে।\\xa0 শুধু তাই নয়, এবারই মজা হবে বলেও নিজের ছবির নীচে ক্যাপশন দিতেও দেখা যায় পুনমকে। ‘ইন্টারনেট সেনসেশন’ পুনমের সেই ছবি প্রকাশ্যে আসতেই তা ভাইরাল হয়ে যায় সঙ্গে সঙ্গে। \\xa0 তবে এই প্রথমবার নয়, এর আগেও বহুবার নিজের সোশ্যাল হ্যান্ডেলে একাধিক ছবি শেয়ার করে ভক্তদের নজর কেড়েছেন পুনম পান্ডে। কখনও ওই ছবি নিয়ে শুরু হয়েছে জোরদার বিতর্ক, আবার কখনও ভক্তদের হৃদয় জয় করে নিয়েছেন তিনি। আবার কখনও নিজের নামে আপ এনে সমালোচনার কেন্দ্রবিন্দুতে উঠে এসেছেন পুনম। \\xa0 যদিও আপটি প্রকাশিত হওয়ার পরই তা তড়িঘড়ি বন্ধ করে দেয়া হয়। যা নিয়ে নিজের মতামতও প্রকাশ করেন পুনম। তা সত্ত্বেও ওই আপকে নতুন করে আর প্রকাশ করতে পারেননি বলিউডের এই নায়িকা। \\xa0 প্রসঙ্গত, তবে বর্তমানে 'লেডি গব্বর সিং' নামে একটি তেলুগু সিনেমার শুটিং শুরু করেছেন পুনম পান্ডে।\\xa0 ইত্তেফাক/এসজেএ\""
      ]
     },
     "execution_count": 150,
     "metadata": {},
     "output_type": "execute_result"
    }
   ],
   "source": [
    "dataset['content'][50]"
   ]
  },
  {
   "cell_type": "code",
   "execution_count": 151,
   "metadata": {},
   "outputs": [
    {
     "data": {
      "text/plain": [
       "'নিজেকে কীভাবে শিরোনামে যায় ভালোই জানেন পুনম পান্ডে বুধবার ভারতপাকিস্তানের ক্রিকেট ম্যাচ ম্যাচের সোশ্যাল সাইটে খোলামেলা ছবি শেয়ার পুনম শরীরের অংশে পর্যাপ্ত সুতোর দেখাও মেলেনি শরীরের নিন্মাংশ প্রদর্শন সোশ্যাল সাইটে উত্তাপ ছড়াতে পুনম পান্ডে এবারই মজা বলেও ছবির নীচে ক্যাপশন দিতেও যায় পুনমকে ইন্টারনেট সেনসেশন পুনমের ছবি প্রকাশ্যে আসতেই ভাইরাল হয়ে যায়  প্রথমবার আগেও বহুবার সোশ্যাল হ্যান্ডেলে একাধিক ছবি শেয়ার ভক্তদের নজর কেড়েছেন পুনম পান্ডে ছবি হয়েছে জোরদার বিতর্ক ভক্তদের হৃদয় জয় নিয়েছেন নামে আপ এনে সমালোচনার কেন্দ্রবিন্দুতে উঠে এসেছেন পুনম  আপটি প্রকাশিত হওয়ার পরই তড়িঘড়ি বন্ধ দেয়া মতামতও প্রকাশ পুনম সত্ত্বেও আপকে প্রকাশ পারেননি বলিউডের নায়িকা  প্রসঙ্গত বর্তমানে লেডি গব্বর সিং নামে তেলুগু সিনেমার শুটিং পুনম পান্ডে ইত্তেফাকএসজেএ'"
      ]
     },
     "execution_count": 151,
     "metadata": {},
     "output_type": "execute_result"
    }
   ],
   "source": [
    "data['content'][50]"
   ]
  },
  {
   "cell_type": "code",
   "execution_count": 152,
   "metadata": {},
   "outputs": [],
   "source": [
    "X = data.drop(columns=['label','category','relation']).values\n",
    "y = data.iloc[:,-1].values"
   ]
  },
  {
   "cell_type": "code",
   "execution_count": 153,
   "metadata": {},
   "outputs": [
    {
     "data": {
      "text/plain": [
       "array(['হঠাৎ আফগান ক্রিকেট বোর্ড প্রধানের পদত্যাগ',\n",
       "       'টস হেরে বোলিংয়ে বাংলাদেশ', 'রাজধানীতে অভিযানে আটক ', ...,\n",
       "       'শাওমি মোবাইল বিস্ফোরণে কলেজছাত্রের মৃত্যু',\n",
       "       'ফেসবুকে যেভাবে মন্ত্রীদের অভিনন্দন বার্তা জানাবেন',\n",
       "       'মাঝ আকাশে পর্ন দেখার অভিযোগে পাইলট আটক'], dtype=object)"
      ]
     },
     "execution_count": 153,
     "metadata": {},
     "output_type": "execute_result"
    }
   ],
   "source": [
    "X[:,0]"
   ]
  },
  {
   "cell_type": "code",
   "execution_count": 154,
   "metadata": {},
   "outputs": [],
   "source": [
    "#Import the CountVectorizer\n",
    "from sklearn.feature_extraction.text import CountVectorizer\n",
    "cv = CountVectorizer(max_features=5000)\n",
    "News_body = cv.fit_transform(X[:,1]).todense()"
   ]
  },
  {
   "cell_type": "code",
   "execution_count": 155,
   "metadata": {},
   "outputs": [
    {
     "data": {
      "text/plain": [
       "(8501, 5000)"
      ]
     },
     "execution_count": 155,
     "metadata": {},
     "output_type": "execute_result"
    }
   ],
   "source": [
    "News_body.shape"
   ]
  },
  {
   "cell_type": "code",
   "execution_count": 156,
   "metadata": {},
   "outputs": [],
   "source": [
    "cv_head = CountVectorizer(max_features=5000)\n",
    "News_head = cv_head.fit_transform(X[:,0]).todense()"
   ]
  },
  {
   "cell_type": "code",
   "execution_count": 157,
   "metadata": {},
   "outputs": [
    {
     "data": {
      "text/plain": [
       "(8501, 2240)"
      ]
     },
     "execution_count": 157,
     "metadata": {},
     "output_type": "execute_result"
    }
   ],
   "source": [
    "News_head.shape"
   ]
  },
  {
   "cell_type": "code",
   "execution_count": 158,
   "metadata": {},
   "outputs": [],
   "source": [
    "X_mat = np.hstack(( News_head, News_body))"
   ]
  },
  {
   "cell_type": "code",
   "execution_count": 159,
   "metadata": {},
   "outputs": [
    {
     "data": {
      "text/plain": [
       "(8501, 7240)"
      ]
     },
     "execution_count": 159,
     "metadata": {},
     "output_type": "execute_result"
    }
   ],
   "source": [
    "X_mat.shape"
   ]
  },
  {
   "cell_type": "code",
   "execution_count": 160,
   "metadata": {},
   "outputs": [
    {
     "data": {
      "text/plain": [
       "numpy.matrix"
      ]
     },
     "execution_count": 160,
     "metadata": {},
     "output_type": "execute_result"
    }
   ],
   "source": [
    "\n",
    "type(X_mat)"
   ]
  },
  {
   "cell_type": "code",
   "execution_count": 161,
   "metadata": {},
   "outputs": [],
   "source": [
    "from sklearn.preprocessing import OneHotEncoder\n",
    "from sklearn.compose import make_column_transformer"
   ]
  },
  {
   "cell_type": "code",
   "execution_count": 162,
   "metadata": {},
   "outputs": [],
   "source": [
    "col_transform = make_column_transformer((OneHotEncoder(sparse=False),['category','relation']),\n",
    "                                        remainder= 'passthrough')"
   ]
  },
  {
   "cell_type": "code",
   "execution_count": 163,
   "metadata": {},
   "outputs": [],
   "source": [
    "dum = data.drop(columns=['headline','content','label'])\n",
    "dummi = col_transform.fit_transform(dum)"
   ]
  },
  {
   "cell_type": "code",
   "execution_count": 164,
   "metadata": {},
   "outputs": [
    {
     "data": {
      "text/plain": [
       "(8501, 14)"
      ]
     },
     "execution_count": 164,
     "metadata": {},
     "output_type": "execute_result"
    }
   ],
   "source": [
    "dummi.shape"
   ]
  },
  {
   "cell_type": "code",
   "execution_count": 165,
   "metadata": {},
   "outputs": [],
   "source": [
    "X_final = np.hstack(( dummi, X_mat))"
   ]
  },
  {
   "cell_type": "code",
   "execution_count": 166,
   "metadata": {},
   "outputs": [
    {
     "data": {
      "text/plain": [
       "(8501, 7254)"
      ]
     },
     "execution_count": 166,
     "metadata": {},
     "output_type": "execute_result"
    }
   ],
   "source": [
    "X_final.shape"
   ]
  },
  {
   "cell_type": "code",
   "execution_count": 167,
   "metadata": {},
   "outputs": [
    {
     "data": {
      "text/plain": [
       "matrix([[0., 0., 0., ..., 0., 0., 0.],\n",
       "        [0., 0., 0., ..., 0., 0., 0.],\n",
       "        [0., 0., 0., ..., 0., 0., 0.],\n",
       "        ...,\n",
       "        [1., 0., 0., ..., 0., 0., 0.],\n",
       "        [0., 0., 0., ..., 0., 0., 0.],\n",
       "        [0., 0., 0., ..., 0., 0., 0.]])"
      ]
     },
     "execution_count": 167,
     "metadata": {},
     "output_type": "execute_result"
    }
   ],
   "source": [
    "X_final"
   ]
  },
  {
   "cell_type": "code",
   "execution_count": 168,
   "metadata": {},
   "outputs": [],
   "source": [
    "from sklearn.model_selection import train_test_split\n",
    "X_train, X_test, y_train, y_test = train_test_split(X_final,y, test_size=0.2, random_state=0)"
   ]
  },
  {
   "cell_type": "code",
   "execution_count": 169,
   "metadata": {},
   "outputs": [
    {
     "name": "stdout",
     "output_type": "stream",
     "text": [
      "(6800, 7254)\n",
      "(1701, 7254)\n",
      "(6800,)\n",
      "(1701,)\n"
     ]
    }
   ],
   "source": [
    "print(X_train.shape)\n",
    "print(X_test.shape)\n",
    "print(y_train.shape)\n",
    "print(y_test.shape)"
   ]
  },
  {
   "cell_type": "code",
   "execution_count": 170,
   "metadata": {},
   "outputs": [],
   "source": [
    "from sklearn.ensemble import RandomForestClassifier\n",
    "nb = RandomForestClassifier()\n"
   ]
  },
  {
   "cell_type": "code",
   "execution_count": 171,
   "metadata": {},
   "outputs": [
    {
     "data": {
      "text/plain": [
       "RandomForestClassifier()"
      ]
     },
     "execution_count": 171,
     "metadata": {},
     "output_type": "execute_result"
    }
   ],
   "source": [
    "nb.fit(X_train,y_train)"
   ]
  },
  {
   "cell_type": "code",
   "execution_count": 172,
   "metadata": {},
   "outputs": [],
   "source": [
    "y_pred = nb.predict(X_test)"
   ]
  },
  {
   "cell_type": "code",
   "execution_count": 173,
   "metadata": {},
   "outputs": [
    {
     "data": {
      "text/plain": [
       "0.9729570840681951"
      ]
     },
     "execution_count": 173,
     "metadata": {},
     "output_type": "execute_result"
    }
   ],
   "source": [
    "from sklearn.metrics import accuracy_score\n",
    "accuracy_score(y_pred, y_test)"
   ]
  },
  {
   "cell_type": "code",
   "execution_count": 174,
   "metadata": {},
   "outputs": [
    {
     "data": {
      "text/plain": [
       "1.0"
      ]
     },
     "execution_count": 174,
     "metadata": {},
     "output_type": "execute_result"
    }
   ],
   "source": [
    "nb.score(X_train,y_train)"
   ]
  },
  {
   "cell_type": "code",
   "execution_count": 175,
   "metadata": {},
   "outputs": [
    {
     "data": {
      "text/plain": [
       "array([[ 224,   44],\n",
       "       [   2, 1431]])"
      ]
     },
     "execution_count": 175,
     "metadata": {},
     "output_type": "execute_result"
    }
   ],
   "source": [
    "# Precision and Recall\n",
    "from sklearn import metrics\n",
    "from sklearn.metrics import confusion_matrix\n",
    "confusion_matrix(y_test, y_pred)"
   ]
  },
  {
   "cell_type": "code",
   "execution_count": 176,
   "metadata": {},
   "outputs": [
    {
     "name": "stdout",
     "output_type": "stream",
     "text": [
      "              precision    recall  f1-score   support\n",
      "\n",
      "         0.0      0.991     0.836     0.907       268\n",
      "         1.0      0.970     0.999     0.984      1433\n",
      "\n",
      "    accuracy                          0.973      1701\n",
      "   macro avg      0.981     0.917     0.946      1701\n",
      "weighted avg      0.973     0.973     0.972      1701\n",
      "\n"
     ]
    }
   ],
   "source": [
    "print(metrics.classification_report(y_test,y_pred,digits=3))"
   ]
  },
  {
   "cell_type": "code",
   "execution_count": 177,
   "metadata": {},
   "outputs": [],
   "source": [
    "import pickle\n",
    "pickle.dump(nb, open(\"random_forest_classi.pkl\",'wb'))"
   ]
  },
  {
   "cell_type": "markdown",
   "metadata": {},
   "source": [
    "# Testing"
   ]
  },
  {
   "cell_type": "code",
   "execution_count": 178,
   "metadata": {},
   "outputs": [],
   "source": [
    "category = 'national'\n",
    "relation = 'unrelated'\n",
    "headline = \"মাহির মন ভালো করার বিচিত্র উপায়\"\n",
    "content = '''\n",
    "অভিনেত্রী মাহিয়া মাহির সেদিন মন খারাপ ছিল। নিজের গাড়িটা নিয়ে বেড়াতে বের হয়ে যান তিনি। গন্তব্য রাজশাহী শহর থেকে গ্রামের দিকে। ইচ্ছা ছিল চোখ ভরে একটু প্রকৃতি দেখবেন। সে রকম পরিকল্পনা নিয়েই ঘুরতে বের হন তিনি। পথেই দেখা হয়ে যায় এক কৃষকের সঙ্গে, যিনি বাঁধাকপি নিয়ে বাজারে বিক্রির উদ্দেশে যাচ্ছিলেন। বয়স্ক মানুষটাকে দেখে তাঁর মন আরও খারাপ হয়। রিকশা ভ্যান থেকে সব কটি বাঁধাকপি কিনে বয়স্ক বিক্রেতার মন ভালো করে দেন মাহি। অন্যের মুখে হাসি ফুটলে তাঁর নিজেরও মন ভালো হয়ে যায়।\n",
    "মাহির ফেসবুক স্ট্যাটাস দেখে অনেকেই জেনেছেন, ১০০টি বাঁধাকপি কিনেছেন তিনি। কিন্তু এ রকম ঘটনা এবারই প্রথম নয়। আগেও ফেরিওয়ালাদের কাছ থেকে সব পণ্য কিনে নিয়েছেন মাহি। মন খারাপ হলে এমন কাজ আগেও করেছেন তিনি। সেসবের মধ্যে ছিল চুড়ি, গলার মালা, ঝুড়িসহ আরও অনেক কিছু। তিনি জানান, একবার মন খারাপ নিয়ে গুলশানে ঘুরছিলেন তিনি। \n",
    "এক সিগন্যালে দেখতে পান, একজন অনেকগুলো ঝুড়ি নিয়ে বসে আছেন। ওই ঝুড়িওয়ালার কাছ থেকে সব কটি ঝুড়ি কিনে নেন তিনি। অতগুলো ঝুড়ি দেখে তাজ্জব হয়ে যান মাহির মা। \n",
    "তিনি বলেন, ‘মন খারাপ হলে আমি কারও না কারও সাহায্যে এগিয়ে যাই। আমাকে দিয়ে যদি কারও উপকার হয়, তাতে আমি শান্তি পাই।’ একবার পথশিশুদের ১০০ হাওয়াই মিঠাই কিনে দিয়েছিলেন। সেদিনের শিশুগুলোর আনন্দের ছবি আজও তাঁর চোখে ভাসে। আরেকবার কক্সবাজারের সমুদ্রসৈকতে এক কিশোরী কানের দুল ও গলার মালা বিক্রি করছিল। সারা দিন তেমন কিছু বিক্রি হয়নি বলে মন খারাপ করে ছিল সে। মাহি তার কাছ থেকে সবকিছু কিনে তাকেই উপহার দিয়েছিলেন। সম্প্রতি কেনা ১০০ বাঁধাকপি কী করলেন, জানতে চাইলে মাহি বলেন, ‘কিছু রান্না করেছি, কিছু বাড়ির চারপাশের সবাইকে বিলিয়ে দিয়েছি। যদিও এখানকার মানুষেরা এখন আর এগুলো খায় না। সেসব গরু-ছাগলকে খাইয়েছেন।’\n",
    "সম্প্রতি মাহি শেষ করেছেন ‘লাইভ’ ছবির শুটিং। এ ছবিতে তাঁর সঙ্গে দেখা যাবে অভিনেতা সাইমনকে। এ ছাড়া সম্প্রতি ‘যাও পাখি বলো তারে’ নামে আরও একটি ছবিতে কাজ করেছেন এই অভিনেত্রী। ছবিটির গানের শুটিং এখনো বাকি রয়েছে। লোকেশন দেখা শেষ হলেই গানগুলোর শুটিংয়ে অংশ নেবেন তিনি। এ ছবিতে কেন্দ্রীয় পুরুষ চরিত্রে অভিনয় করেছেন শিপন মিত্র। মাহির হাতে রয়েছে আরও বেশ কিছু ছবির কাজ। সেগুলোর মধ্যে ‘গ্যাংস্টার’ ছবির শুটিংয়ের জন্য শিগগিরই কক্সবাজার যাবেন তিনি। \n",
    "\n",
    "'''"
   ]
  },
  {
   "cell_type": "code",
   "execution_count": 179,
   "metadata": {},
   "outputs": [],
   "source": [
    "inputs = pd.DataFrame([[category,relation,headline,content]], columns=['category','relation','headline','content'])"
   ]
  },
  {
   "cell_type": "code",
   "execution_count": 180,
   "metadata": {},
   "outputs": [
    {
     "data": {
      "text/html": [
       "<div>\n",
       "<style scoped>\n",
       "    .dataframe tbody tr th:only-of-type {\n",
       "        vertical-align: middle;\n",
       "    }\n",
       "\n",
       "    .dataframe tbody tr th {\n",
       "        vertical-align: top;\n",
       "    }\n",
       "\n",
       "    .dataframe thead th {\n",
       "        text-align: right;\n",
       "    }\n",
       "</style>\n",
       "<table border=\"1\" class=\"dataframe\">\n",
       "  <thead>\n",
       "    <tr style=\"text-align: right;\">\n",
       "      <th></th>\n",
       "      <th>category</th>\n",
       "      <th>relation</th>\n",
       "      <th>headline</th>\n",
       "      <th>content</th>\n",
       "    </tr>\n",
       "  </thead>\n",
       "  <tbody>\n",
       "    <tr>\n",
       "      <th>0</th>\n",
       "      <td>national</td>\n",
       "      <td>unrelated</td>\n",
       "      <td>মাহির মন ভালো করার বিচিত্র উপায়</td>\n",
       "      <td>\\nঅভিনেত্রী মাহিয়া মাহির সেদিন মন খারাপ ছিল। ন...</td>\n",
       "    </tr>\n",
       "  </tbody>\n",
       "</table>\n",
       "</div>"
      ],
      "text/plain": [
       "   category   relation                         headline  \\\n",
       "0  national  unrelated  মাহির মন ভালো করার বিচিত্র উপায়   \n",
       "\n",
       "                                             content  \n",
       "0  \\nঅভিনেত্রী মাহিয়া মাহির সেদিন মন খারাপ ছিল। ন...  "
      ]
     },
     "execution_count": 180,
     "metadata": {},
     "output_type": "execute_result"
    }
   ],
   "source": [
    "inputs"
   ]
  },
  {
   "cell_type": "code",
   "execution_count": 181,
   "metadata": {},
   "outputs": [],
   "source": [
    "inputs['relation'] = inputs['relation'].str.lower()\n",
    "inputs['category'] = inputs['category'].str.lower()"
   ]
  },
  {
   "cell_type": "code",
   "execution_count": 182,
   "metadata": {},
   "outputs": [],
   "source": [
    "inputs['headline'] = inputs['headline'].apply(round1)\n",
    "inputs['headline'] = inputs['headline'].apply(round2)\n",
    "inputs['content'] = inputs['content'].apply(round1)\n",
    "inputs['content'] = inputs['content'].apply(round2)"
   ]
  },
  {
   "cell_type": "code",
   "execution_count": 183,
   "metadata": {},
   "outputs": [
    {
     "name": "stderr",
     "output_type": "stream",
     "text": [
      "/opt/conda/lib/python3.7/site-packages/ipykernel_launcher.py:5: FutureWarning: The default value of regex will change from True to False in a future version.\n",
      "  \"\"\"\n",
      "/opt/conda/lib/python3.7/site-packages/ipykernel_launcher.py:6: FutureWarning: The default value of regex will change from True to False in a future version.\n",
      "  \n",
      "/opt/conda/lib/python3.7/site-packages/ipykernel_launcher.py:7: FutureWarning: The default value of regex will change from True to False in a future version.\n",
      "  import sys\n"
     ]
    }
   ],
   "source": [
    "inputs = cleaning_headline(inputs)\n",
    "inputs = cleaning_content(inputs)"
   ]
  },
  {
   "cell_type": "code",
   "execution_count": 184,
   "metadata": {},
   "outputs": [],
   "source": [
    "inputs['content'] = inputs['content'].apply(lambda x:demoji_cont(x))\n",
    "inputs['headline'] = inputs['headline'].apply(lambda x:demoji_head(x))"
   ]
  },
  {
   "cell_type": "code",
   "execution_count": 185,
   "metadata": {},
   "outputs": [],
   "source": [
    "testing = inputs.drop(columns=['category','relation']).values"
   ]
  },
  {
   "cell_type": "code",
   "execution_count": 186,
   "metadata": {},
   "outputs": [
    {
     "data": {
      "text/plain": [
       "array(['মাহির মন ভালো বিচিত্র উপায়'], dtype=object)"
      ]
     },
     "execution_count": 186,
     "metadata": {},
     "output_type": "execute_result"
    }
   ],
   "source": [
    "testing[:,0]"
   ]
  },
  {
   "cell_type": "code",
   "execution_count": 187,
   "metadata": {},
   "outputs": [],
   "source": [
    "test_body = cv.transform(testing[:,1]).todense()"
   ]
  },
  {
   "cell_type": "code",
   "execution_count": 188,
   "metadata": {},
   "outputs": [
    {
     "data": {
      "text/plain": [
       "(1, 5000)"
      ]
     },
     "execution_count": 188,
     "metadata": {},
     "output_type": "execute_result"
    }
   ],
   "source": [
    "test_body.shape"
   ]
  },
  {
   "cell_type": "code",
   "execution_count": 189,
   "metadata": {},
   "outputs": [],
   "source": [
    "test_head = cv_head.transform(testing[:,0]).todense()"
   ]
  },
  {
   "cell_type": "code",
   "execution_count": 190,
   "metadata": {},
   "outputs": [
    {
     "data": {
      "text/plain": [
       "(1, 2240)"
      ]
     },
     "execution_count": 190,
     "metadata": {},
     "output_type": "execute_result"
    }
   ],
   "source": [
    "test_head.shape"
   ]
  },
  {
   "cell_type": "code",
   "execution_count": 191,
   "metadata": {},
   "outputs": [],
   "source": [
    "test_final = np.hstack(( test_head, test_body))"
   ]
  },
  {
   "cell_type": "code",
   "execution_count": 192,
   "metadata": {},
   "outputs": [
    {
     "data": {
      "text/plain": [
       "(1, 7240)"
      ]
     },
     "execution_count": 192,
     "metadata": {},
     "output_type": "execute_result"
    }
   ],
   "source": [
    "test_final.shape"
   ]
  },
  {
   "cell_type": "code",
   "execution_count": 195,
   "metadata": {},
   "outputs": [],
   "source": [
    "test_dum = inputs.drop(columns=['headline','content'])\n",
    "test_dumi = col_transform.transform(test_dum)"
   ]
  },
  {
   "cell_type": "code",
   "execution_count": 196,
   "metadata": {},
   "outputs": [
    {
     "data": {
      "text/plain": [
       "(1, 14)"
      ]
     },
     "execution_count": 196,
     "metadata": {},
     "output_type": "execute_result"
    }
   ],
   "source": [
    "test_dumi.shape"
   ]
  },
  {
   "cell_type": "code",
   "execution_count": 197,
   "metadata": {},
   "outputs": [],
   "source": [
    "lets_test = np.hstack(( test_dumi, test_final))"
   ]
  },
  {
   "cell_type": "code",
   "execution_count": 198,
   "metadata": {},
   "outputs": [
    {
     "data": {
      "text/plain": [
       "(1, 7254)"
      ]
     },
     "execution_count": 198,
     "metadata": {},
     "output_type": "execute_result"
    }
   ],
   "source": [
    "lets_test.shape"
   ]
  },
  {
   "cell_type": "code",
   "execution_count": null,
   "metadata": {},
   "outputs": [],
   "source": [
    "nb.predict(lets_test)"
   ]
  }
 ],
 "metadata": {
  "kernelspec": {
   "display_name": "Python 3",
   "language": "python",
   "name": "python3"
  },
  "language_info": {
   "codemirror_mode": {
    "name": "ipython",
    "version": 3
   },
   "file_extension": ".py",
   "mimetype": "text/x-python",
   "name": "python",
   "nbconvert_exporter": "python",
   "pygments_lexer": "ipython3",
   "version": "3.7.1"
  }
 },
 "nbformat": 4,
 "nbformat_minor": 4
}
